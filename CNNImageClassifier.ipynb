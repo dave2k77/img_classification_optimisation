{
  "cells": [
    {
      "cell_type": "markdown",
      "id": "afb7565f",
      "metadata": {
        "id": "afb7565f"
      },
      "source": [
        "# Image Classification with Convolutional Neural Networks"
      ]
    },
    {
      "cell_type": "markdown",
      "id": "220b6812",
      "metadata": {
        "id": "220b6812"
      },
      "source": [
        "## Introduction"
      ]
    },
    {
      "cell_type": "markdown",
      "id": "79b6ec0c",
      "metadata": {
        "id": "79b6ec0c"
      },
      "source": [
        "## Exploring the CIFAR-10 Dataset"
      ]
    },
    {
      "cell_type": "code",
      "execution_count": null,
      "id": "db87e495",
      "metadata": {
        "colab": {
          "base_uri": "https://localhost:8080/"
        },
        "id": "db87e495",
        "outputId": "ae2877d5-62cf-4399-9642-d94b50919e97",
        "scrolled": false
      },
      "outputs": [
        {
          "output_type": "stream",
          "name": "stdout",
          "text": [
            "Downloading data from https://www.cs.toronto.edu/~kriz/cifar-10-python.tar.gz\n",
            "170500096/170498071 [==============================] - 2s 0us/step\n",
            "170508288/170498071 [==============================] - 2s 0us/step\n",
            "(50000, 32, 32, 3)\n",
            "(10000, 32, 32, 3)\n"
          ]
        }
      ],
      "source": [
        "import tensorflow as tf\n",
        "from tensorflow.keras import datasets\n",
        "\n",
        "# Load the CIFAR-10 dataset included in keras\n",
        "cifar10_data = datasets.cifar10\n",
        "\n",
        "# split the CIFAR-10 dataset into training and testing sets.\n",
        "(training_examples, training_labels), (test_examples, test_labels) = cifar10_data.load_data()\n",
        "\n",
        "# Verify dimensions of the training and testing sets.\n",
        "print(training_examples.shape)\n",
        "print(test_examples.shape)"
      ]
    },
    {
      "cell_type": "code",
      "execution_count": null,
      "id": "ec0d7652",
      "metadata": {
        "colab": {
          "base_uri": "https://localhost:8080/"
        },
        "id": "ec0d7652",
        "outputId": "4504aca8-3901-4893-828e-913533464f82"
      },
      "outputs": [
        {
          "output_type": "stream",
          "name": "stdout",
          "text": [
            "[[[ 28  35  39]\n",
            "  [ 30  34  44]\n",
            "  [ 33  44  47]\n",
            "  ...\n",
            "  [ 43  56  45]\n",
            "  [ 52  64  53]\n",
            "  [ 46  58  47]]\n",
            "\n",
            " [[ 27  30  38]\n",
            "  [ 27  28  41]\n",
            "  [ 21  31  39]\n",
            "  ...\n",
            "  [112 136  97]\n",
            "  [117 140 101]\n",
            "  [115 138 100]]\n",
            "\n",
            " [[ 34  36  42]\n",
            "  [ 33  33  43]\n",
            "  [ 24  30  40]\n",
            "  ...\n",
            "  [175 208 143]\n",
            "  [177 209 144]\n",
            "  [176 208 143]]\n",
            "\n",
            " ...\n",
            "\n",
            " [[142 176 118]\n",
            "  [142 176 118]\n",
            "  [150 184 127]\n",
            "  ...\n",
            "  [134 175 119]\n",
            "  [128 168 112]\n",
            "  [134 175 119]]\n",
            "\n",
            " [[140 176 124]\n",
            "  [145 180 129]\n",
            "  [150 186 134]\n",
            "  ...\n",
            "  [131 170 119]\n",
            "  [130 170 119]\n",
            "  [122 162 111]]\n",
            "\n",
            " [[134 171 123]\n",
            "  [136 171 124]\n",
            "  [136 171 124]\n",
            "  ...\n",
            "  [106 144 100]\n",
            "  [104 142  99]\n",
            "  [101 140  96]]]\n",
            "[7]\n"
          ]
        }
      ],
      "source": [
        "# view a single example in the dataset\n",
        "print(training_examples[7])\n",
        "\n",
        "# view the corresponding label\n",
        "print(training_labels[7])"
      ]
    },
    {
      "cell_type": "code",
      "execution_count": null,
      "id": "dcc9ce04",
      "metadata": {
        "colab": {
          "base_uri": "https://localhost:8080/"
        },
        "id": "dcc9ce04",
        "outputId": "4841f8f0-d6d2-487b-e51c-a376b2c21394"
      },
      "outputs": [
        {
          "output_type": "stream",
          "name": "stdout",
          "text": [
            "0 airplane\n",
            "1 automobile\n",
            "2 bird\n",
            "3 cat\n",
            "4 deer\n",
            "5 dog\n",
            "6 frog\n",
            "7 horse\n",
            "8 ship\n",
            "9 truck\n"
          ]
        }
      ],
      "source": [
        "# visualising a sample of the training dataset.\n",
        "import numpy as np\n",
        "import matplotlib.pyplot as plt\n",
        "\n",
        "# create a mapping to the text label\n",
        "label_set = [\"airplane\", \"automobile\", \"bird\", \"cat\", \"deer\", \"dog\", \"frog\", \"horse\", \"ship\", \"truck\"]\n",
        "unique_training_labels = np.unique(training_labels)\n",
        "\n",
        "# print out the index - text name mapping\n",
        "for i in range(len(unique_training_labels)):\n",
        "    print(unique_training_labels[i], label_set[unique_training_labels[i]])"
      ]
    },
    {
      "cell_type": "code",
      "execution_count": null,
      "id": "8db97441",
      "metadata": {
        "colab": {
          "base_uri": "https://localhost:8080/",
          "height": 866
        },
        "id": "8db97441",
        "outputId": "5ded35d9-92b4-4c27-fa23-5d1f644633f8"
      },
      "outputs": [
        {
          "output_type": "display_data",
          "data": {
            "text/plain": [
              "<Figure size 360x1080 with 10 Axes>"
            ],
            "image/png": "[encoded data removed]"
          },
          "metadata": {
            "needs_background": "light"
          }
        }
      ],
      "source": [
        "# create the canvas for our plots\n",
        "plt.figure(figsize=(5,15))\n",
        "num_classes = len(unique_training_labels)\n",
        "\n",
        "# print out the first 10 training examples with their corresponding label.\n",
        "for i in range(num_classes):\n",
        "    plt.subplot(5, 2, i + 1)\n",
        "    plt.title(\"Category: {}\".format(label_set[training_labels[i][0]]))\n",
        "    plt.imshow(training_examples[i])\n",
        "plt.show()"
      ]
    },
    {
      "cell_type": "markdown",
      "id": "3b32ea27",
      "metadata": {
        "id": "3b32ea27"
      },
      "source": [
        "## CNN Classifier Architecture and Configurations"
      ]
    },
    {
      "cell_type": "markdown",
      "id": "ca3b0ccc",
      "metadata": {
        "id": "ca3b0ccc"
      },
      "source": [
        "### Network Model: Configurations"
      ]
    },
    {
      "cell_type": "markdown",
      "id": "3a3e3405",
      "metadata": {
        "id": "3a3e3405"
      },
      "source": [
        "**Network Structure**\n",
        "\n",
        "|Layer  |Config. 1 | Config. 2 | Config. 3 | Config. 4 | Config. 5 | Config 6. |\n",
        "|-------|:--------:|:---------:|:---------:|:---------:|:---------:|:---------:|\n",
        "|CL     | 2        | 2         | 2         | 4         | 4         | 4         |\n",
        "|FCL    | 1        | 1         | 1         | 3         | 4         | 3         |\n",
        "|Dropout| -        | -         | 2         | 6         | 6         | 6         |\n",
        "|Pooling| -        | -         | -         | Max       | Max       | Max       |\n",
        "|Padding| same     | same      | same      | same      | same      | same      |\n",
        "\n",
        "**Hyperparameters Selection: configurations 1,2 and 3**\n",
        "\n",
        "|Hyperparameter     |Config. 1                   | Config. 2                  | Config. 3                  |\n",
        "|:------------------|:---------------------------|:---------------------------|:---------------------------|\n",
        "|Activation Function|ReLU and SoftMax            |ReLU and SoftMax            |ReLU and SoftMax            |\n",
        "|Optimizer          |Stochastic Gradient Descent |Adam                        |Adam                        |\n",
        "|Loss Function      |Categorical Cross Entropy   |Categorical Cross Entropy   |Categorical Cross Entropy   |\n",
        "|Number of Batches  |32                          |32                          |32                          |\n",
        "|Number of Epochs   |30                          |30                          |30                          |\n",
        "|Dropout Rate       |20%                         |20%                         |20%                         |\n",
        "\n",
        "\n",
        "**Hyperparameter Selections: configurations 4, 5 and 6**\n",
        "\n",
        "|Hyperparameter     | Config. 4                  | Config. 5                  | Config. 6                  |\n",
        "|:------------------|:---------------------------|:---------------------------|:---------------------------|\n",
        "|Activation Function|ReLU and SoftMax            |ReLU and Sigmoid            |ReLU and tanh            |\n",
        "|Optimizer          |Adam                        |Adam                        |Adam                        |\n",
        "|Loss Function      |Categorical Cross Entropy   |Categorical Cross Entropy   |Categorical Cross Entropy   |\n",
        "|Number of Batches  |32                          |32                          |32                          |\n",
        "|Number of Epochs   |30                          |30                          |30                          |\n",
        "|Dropout Rate       |20%                         |20%                         |20%                         |"
      ]
    },
    {
      "cell_type": "markdown",
      "id": "367f15af",
      "metadata": {
        "id": "367f15af"
      },
      "source": [
        "## Data Preprocessing"
      ]
    },
    {
      "cell_type": "code",
      "execution_count": null,
      "id": "4e37fd9f",
      "metadata": {
        "colab": {
          "base_uri": "https://localhost:8080/"
        },
        "id": "4e37fd9f",
        "outputId": "a1dee2e4-fd65-412a-98cb-b270e73acf63"
      },
      "outputs": [
        {
          "output_type": "execute_result",
          "data": {
            "text/plain": [
              "array([[[-0.96192505, -0.91515971, -0.89957127],\n",
              "        [-1.21134019, -1.16457485, -1.1801633 ],\n",
              "        [-1.10222107, -1.13339796, -1.21134019],\n",
              "        ...,\n",
              "        [ 0.58133111,  0.17603151, -0.19809119],\n",
              "        [ 0.48780043,  0.06691239, -0.29162187],\n",
              "        [ 0.42544665,  0.05132394, -0.27603342]],\n",
              "\n",
              "       [[-1.63222823, -1.56987445, -1.56987445],\n",
              "        [-1.88164337, -1.88164337, -1.88164337],\n",
              "        [-1.60105134, -1.7569358 , -1.88164337],\n",
              "        ...,\n",
              "        [ 0.0357355 , -0.50986012, -1.02427884],\n",
              "        [-0.02661829, -0.58780235, -1.10222107],\n",
              "        [ 0.02014705, -0.52544856, -0.99310194]],\n",
              "\n",
              "       [[-1.49193222, -1.50752067, -1.554286  ],\n",
              "        [-1.63222823, -1.77252425, -1.88164337],\n",
              "        [-1.11780951, -1.46075533, -1.7569358 ],\n",
              "        ...,\n",
              "        [-0.04220673, -0.5722139 , -1.10222107],\n",
              "        [-0.01102984, -0.5722139 , -1.10222107],\n",
              "        [-0.18250275, -0.74368681, -1.22692864]],\n",
              "\n",
              "       ...,\n",
              "\n",
              "       [[ 1.36075342,  0.76839246, -0.38515255],\n",
              "        [ 1.25163429,  0.50338888, -1.3516362 ],\n",
              "        [ 1.20486895,  0.62809645, -1.47634377],\n",
              "        ...,\n",
              "        [ 0.612508  ,  0.19161996, -0.79045215],\n",
              "        [-1.00869039, -1.39840154, -1.77252425],\n",
              "        [-1.05545573, -1.3516362 , -1.56987445]],\n",
              "\n",
              "       [[ 0.92427692,  0.28515064, -0.38515255],\n",
              "        [ 0.8151578 ,  0.0357355 , -1.22692864],\n",
              "        [ 1.0178076 ,  0.36309287, -1.41398999],\n",
              "        ...,\n",
              "        [ 0.98663071,  0.42544665, -0.41632944],\n",
              "        [-0.3695641 , -0.91515971, -1.3516362 ],\n",
              "        [-0.58780235, -1.05545573, -1.3516362 ]],\n",
              "\n",
              "       [[ 0.87751159,  0.36309287, -0.07338363],\n",
              "        [ 0.73721557,  0.12926617, -0.41632944],\n",
              "        [ 0.90868848,  0.33191597, -0.52544856],\n",
              "        ...,\n",
              "        [ 1.48546098,  0.98663071,  0.30073908],\n",
              "        [ 0.47221199, -0.04220673, -0.5722139 ],\n",
              "        [ 0.0357355 , -0.44750633, -0.75927525]]])"
            ]
          },
          "metadata": {},
          "execution_count": 5
        }
      ],
      "source": [
        "mean = np.mean(training_examples)\n",
        "stddev = np.std(training_examples)\n",
        "training_examples = (training_examples - mean) / stddev\n",
        "test_examples = (test_examples - mean) / stddev\n",
        "\n",
        "# encode labels to one-hot format\n",
        "from tensorflow.keras.utils import to_categorical\n",
        "training_labels = to_categorical(training_labels, num_classes=10)\n",
        "test_labels = to_categorical(test_labels, num_classes=10)\n",
        "\n",
        "# viewing the standardised data\n",
        "training_examples[0]"
      ]
    },
    {
      "cell_type": "markdown",
      "id": "951319e9",
      "metadata": {
        "id": "951319e9"
      },
      "source": [
        "## CNN Implementation: Configuration 1"
      ]
    },
    {
      "cell_type": "markdown",
      "id": "44ff657a",
      "metadata": {
        "id": "44ff657a"
      },
      "source": [
        "### Auxiliary Function for Printing Graphs of Model Accurracies and Losses"
      ]
    },
    {
      "cell_type": "code",
      "execution_count": null,
      "id": "3477f22b",
      "metadata": {
        "id": "3477f22b"
      },
      "outputs": [],
      "source": [
        "# FUNCTION OF ACCURACIES AND LOSSES PLOTS\n",
        "\n",
        "def model_analysis_plot (model_history):\n",
        "    import matplotlib.pyplot as plt\n",
        "    import numpy as np\n",
        "    fig, axes = plt.subplots(2, 1, figsize=(5, 15))\n",
        "    # analysis of accuracies\n",
        "    axes[0].plot(range(1, len(model_history['accuracy']) + 1), model_history['accuracy'])\n",
        "    axes[0].plot(range(1, len(model_history['val_accuracy']) + 1), model_history['val_accuracy'])\n",
        "    axes[0].set_title('Model Accuracies')\n",
        "    axes[0].set_xlabel('Epoch')\n",
        "    axes[0].set_ylabel('Accuracy')\n",
        "    axes[0].set_xticks(np.arange(1, len(model_history['accuracy']) + 1, len(model_history['accuracy']) / 10))\n",
        "    axes[0].legend(['training', 'validation'], loc='best')\n",
        "    # analysis of losses\n",
        "    axes[1].plot(range(1, len(model_history['loss']) + 1), model_history['loss'])\n",
        "    axes[1].plot(range(1, len(model_history['val_loss']) + 1), model_history['val_loss'])\n",
        "    axes[1].set_title('Model Losses')\n",
        "    axes[1].set_xlabel('Epoch')\n",
        "    axes[1].set_ylabel('Loss')\n",
        "    axes[1].set_xticks(np.arange(1, len(model_history['loss']) + 1, len(model_history['loss']) / 10))\n",
        "    axes[1].legend(['training', 'validation'], loc='best')\n",
        "    plt.show()"
      ]
    },
    {
      "cell_type": "markdown",
      "id": "747651ad",
      "metadata": {
        "id": "747651ad"
      },
      "source": [
        "### Building the Network with Configuration 1"
      ]
    },
    {
      "cell_type": "code",
      "execution_count": null,
      "id": "c23bf479",
      "metadata": {
        "id": "c23bf479"
      },
      "outputs": [],
      "source": [
        "from tensorflow.keras.models import Sequential\n",
        "from tensorflow.keras.layers import Dense, Flatten, Conv2D, Dropout, MaxPooling2D\n",
        "\n",
        "model1 = Sequential()\n",
        "\n",
        "# first convolution layer\n",
        "model1.add(Conv2D(64, (5,5), strides=(2,2), padding=\"same\", activation='relu', input_shape=(32,32, 3)))\n",
        "\n",
        "# second convolution layer\n",
        "model1.add(Conv2D(64, (3,3), strides=(2,2), padding=\"same\", activation='relu'))\n",
        "\n",
        "# flatten the output\n",
        "model1.add(Flatten())\n",
        "\n",
        "# add the fully connected layer\n",
        "model1.add(Dense(10, activation=\"softmax\"))\n",
        "\n",
        "# compile the model\n",
        "model1.compile(loss='categorical_crossentropy',\n",
        "               optimizer='sgd',\n",
        "               metrics=['accuracy', 'mse', 'mae'])"
      ]
    },
    {
      "cell_type": "markdown",
      "id": "09793030",
      "metadata": {
        "id": "09793030"
      },
      "source": [
        "### Compiling and Summarising Model 1"
      ]
    },
    {
      "cell_type": "code",
      "execution_count": null,
      "id": "3c06ce74",
      "metadata": {
        "colab": {
          "base_uri": "https://localhost:8080/"
        },
        "id": "3c06ce74",
        "outputId": "e368677b-3ab7-4f2b-ace1-b4a8c798ac67"
      },
      "outputs": [
        {
          "output_type": "stream",
          "name": "stdout",
          "text": [
            "Model: \"sequential\"\n",
            "_________________________________________________________________\n",
            " Layer (type)                Output Shape              Param #   \n",
            "=================================================================\n",
            " conv2d (Conv2D)             (None, 16, 16, 64)        4864      \n",
            "                                                                 \n",
            " conv2d_1 (Conv2D)           (None, 8, 8, 64)          36928     \n",
            "                                                                 \n",
            " flatten (Flatten)           (None, 4096)              0         \n",
            "                                                                 \n",
            " dense (Dense)               (None, 10)                40970     \n",
            "                                                                 \n",
            "=================================================================\n",
            "Total params: 82,762\n",
            "Trainable params: 82,762\n",
            "Non-trainable params: 0\n",
            "_________________________________________________________________\n"
          ]
        }
      ],
      "source": [
        "model1.compile(loss='categorical_crossentropy',\n",
        "               optimizer='sgd',\n",
        "               metrics=['accuracy', 'mse', 'mae'])\n",
        "\n",
        "# summarise the model\n",
        "model1.summary()"
      ]
    },
    {
      "cell_type": "markdown",
      "id": "c4852ba0",
      "metadata": {
        "id": "c4852ba0"
      },
      "source": [
        "### Saving, Loading and Training Model 1"
      ]
    },
    {
      "cell_type": "code",
      "execution_count": null,
      "id": "807b9cb2",
      "metadata": {
        "colab": {
          "base_uri": "https://localhost:8080/"
        },
        "id": "807b9cb2",
        "outputId": "2eb6989d-2d4b-45c4-a34c-efa5eefbaa50"
      },
      "outputs": [
        {
          "output_type": "stream",
          "name": "stdout",
          "text": [
            "Epoch 1/30\n"
          ]
        }
      ],
      "source": [
        "# saving and loading the model\n",
        "import os\n",
        "import pickle\n",
        "\n",
        "# create the path for saving the model and its history\n",
        "model1_path = \"cifar10_model1.saved_model\"\n",
        "model1_history_path = \"cifar10_model1.saved_model_history\"\n",
        "\n",
        "if os.path.exists(model1_path) and os.path.exists(model1_history_path):\n",
        "    # Load trained model\n",
        "    model1 = tf.keras.models.load_model(model1_path)\n",
        "    history1 = pickle.load(open(model1_history_path, \"rb\"))\n",
        "    model_analysis_plot(history1)\n",
        "else:\n",
        "    # Train new model\n",
        "    tf.random.set_seed(12345)\n",
        "    model1.fit(training_examples, training_labels,\n",
        "               batch_size = 64,\n",
        "               epochs = 30,\n",
        "               verbose = 2,\n",
        "               validation_data = (test_examples, test_labels))\n",
        "    history1 = model1.history.history\n",
        "    model1.save(model1_path)\n",
        "    pickle.dump(history1, open(model1_history_path, \"wb\"))\n",
        "    model_analysis_plot(history1)"
      ]
    },
    {
      "cell_type": "markdown",
      "id": "b0109966",
      "metadata": {
        "id": "b0109966"
      },
      "source": [
        "### Summarising Model 1's Performance"
      ]
    },
    {
      "cell_type": "code",
      "execution_count": null,
      "id": "dece802e",
      "metadata": {
        "id": "dece802e",
        "scrolled": true
      },
      "outputs": [],
      "source": [
        "print(f\"Model 1 Training Accuracy: {history1['accuracy'][-1]:.4}\")\n",
        "print(f\"Model 1 Validation Accuracy: {history1['val_accuracy'][-1]:.4}\")\n",
        "print(f\"Model 1 Training Loss: {history1['loss'][-1]:.4}\")\n",
        "print(f\"Model 1 Validation Loss: {history1['val_loss'][-1]:.4}\")\n",
        "print(f\"Model 1 Training Mean Square Error: {history1['mse'][-1]:.4}\")\n",
        "print(f\"Model 1 Validation Mean Square Error: {history1['val_mse'][-1]:.4}\")\n",
        "print(f\"Model 1 Training Mean Absolute Error: {history1['mae'][-1]:.4}\")\n",
        "print(f\"Model 1 Validation Mean Absolute Error: {history1['val_mae'][-1]:.4}\")"
      ]
    },
    {
      "cell_type": "markdown",
      "id": "c597f21c",
      "metadata": {
        "id": "c597f21c"
      },
      "source": [
        "## CCN Implementation: Configuration 2"
      ]
    },
    {
      "cell_type": "markdown",
      "id": "e748670a",
      "metadata": {
        "id": "e748670a"
      },
      "source": [
        "### Building the Network with Configuration 2"
      ]
    },
    {
      "cell_type": "code",
      "execution_count": null,
      "id": "852a12ea",
      "metadata": {
        "id": "852a12ea"
      },
      "outputs": [],
      "source": [
        "model2 = Sequential()\n",
        "\n",
        "# first convolution layer\n",
        "model2.add(Conv2D(64, (5,5), strides=(2,2), padding=\"same\", activation='relu', input_shape=(32,32, 3)))\n",
        "\n",
        "# second convolution layer\n",
        "model2.add(Conv2D(64, (3,3), strides=(2,2), padding=\"same\", activation='relu'))\n",
        "\n",
        "# flatten the output\n",
        "model2.add(Flatten())\n",
        "\n",
        "# add the fully connected layer\n",
        "model2.add(Dense(10, activation=\"softmax\"))"
      ]
    },
    {
      "cell_type": "markdown",
      "id": "5930ce4f",
      "metadata": {
        "id": "5930ce4f"
      },
      "source": [
        "### Compiling and Summarising Model 2"
      ]
    },
    {
      "cell_type": "code",
      "execution_count": null,
      "id": "4a8f220d",
      "metadata": {
        "id": "4a8f220d"
      },
      "outputs": [],
      "source": [
        "# compile the model\n",
        "model2.compile(loss='categorical_crossentropy',\n",
        "               optimizer='adam',\n",
        "               metrics=['accuracy', 'mse', 'mae'])\n",
        "\n",
        "# summarise the model\n",
        "model2.summary()"
      ]
    },
    {
      "cell_type": "markdown",
      "id": "b00ac68a",
      "metadata": {
        "id": "b00ac68a"
      },
      "source": [
        "### Saving, Loading and Training Model 2"
      ]
    },
    {
      "cell_type": "code",
      "execution_count": null,
      "id": "9c321cec",
      "metadata": {
        "id": "9c321cec"
      },
      "outputs": [],
      "source": [
        "# create the path for saving the model and its history\n",
        "model2_path = \"cifar10_model2.saved_model\"\n",
        "model2_history_path = \"cifar10_model2.saved_model_history\"\n",
        "\n",
        "if os.path.exists(model2_path) and os.path.exists(model2_history_path):\n",
        "    # Load trained model\n",
        "    model2 = tf.keras.models.load_model(model2_path)\n",
        "    history2 = pickle.load(open(model2_history_path, \"rb\"))\n",
        "    model_analysis_plot(history2)\n",
        "else:\n",
        "    # Train new model\n",
        "    tf.random.set_seed(12345)\n",
        "    model2.fit(training_examples, training_labels,\n",
        "               batch_size = 64,\n",
        "               epochs = 30,\n",
        "               verbose = 2,\n",
        "               validation_data = (test_examples, test_labels))\n",
        "    history2 = model2.history.history\n",
        "    model2.save(model2_path)\n",
        "    pickle.dump(history2, open(model2_history_path, \"wb\"))\n",
        "    model_analysis_plot(history2)"
      ]
    },
    {
      "cell_type": "markdown",
      "id": "ff345ea6",
      "metadata": {
        "id": "ff345ea6"
      },
      "source": [
        "### Summarising Model 2's Performance"
      ]
    },
    {
      "cell_type": "code",
      "execution_count": null,
      "id": "46b24838",
      "metadata": {
        "id": "46b24838"
      },
      "outputs": [],
      "source": [
        "print(f\"Model 2 Training Accuracy: {history2['accuracy'][-1]:.4}\")\n",
        "print(f\"Model 2 Validation Accuracy: {history2['val_accuracy'][-1]:.4}\")\n",
        "print(f\"Model 2 Training Loss: {history2['loss'][-1]:.4}\")\n",
        "print(f\"Model 2 Validation Loss: {history2['val_loss'][-1]:.4}\")\n",
        "print(f\"Model 2 Training Mean Square Error: {history2['mse'][-1]:.4}\")\n",
        "print(f\"Model 2 Validation Mean Square Error: {history2['val_mse'][-1]:.4}\")\n",
        "print(f\"Model 2 Training Mean Absolute Error: {history2['mae'][-1]:.4}\")\n",
        "print(f\"Model 2 Validation Mean Absolute Error: {history2['val_mae'][-1]:.4}\")"
      ]
    },
    {
      "cell_type": "markdown",
      "id": "b2ab1f15",
      "metadata": {
        "id": "b2ab1f15"
      },
      "source": [
        "## CNN Implementation: Configuration 3"
      ]
    },
    {
      "cell_type": "markdown",
      "id": "0ac6fbbb",
      "metadata": {
        "id": "0ac6fbbb"
      },
      "source": [
        "### Building the Network with Configuration 3"
      ]
    },
    {
      "cell_type": "code",
      "execution_count": null,
      "id": "4cd06415",
      "metadata": {
        "id": "4cd06415"
      },
      "outputs": [],
      "source": [
        "model3 = Sequential()\n",
        "\n",
        "# first convolution layer\n",
        "model3.add(Conv2D(64, (5,5), strides=(2,2), padding=\"same\", activation='relu', input_shape=(32,32, 3)))\n",
        "\n",
        "# add a first dropout layer\n",
        "model3.add(Dropout(0.2))\n",
        "\n",
        "# second convolution layer\n",
        "model3.add(Conv2D(64, (3,3), strides=(2,2), padding=\"same\", activation='relu'))\n",
        "\n",
        "# flatten the output\n",
        "model3.add(Flatten())\n",
        "\n",
        "# add a second dropout layer\n",
        "model3.add(Dropout(0.2))\n",
        "\n",
        "# add the fully connected layer\n",
        "model3.add(Dense(10, activation=\"softmax\"))"
      ]
    },
    {
      "cell_type": "markdown",
      "id": "42c2035f",
      "metadata": {
        "id": "42c2035f"
      },
      "source": [
        "### Compiling and Summarising Model 3"
      ]
    },
    {
      "cell_type": "code",
      "execution_count": null,
      "id": "a3db68fa",
      "metadata": {
        "id": "a3db68fa"
      },
      "outputs": [],
      "source": [
        "# compile the model\n",
        "model3.compile(loss='categorical_crossentropy',\n",
        "               optimizer='adam',\n",
        "               metrics=['accuracy', 'mse', 'mae'])\n",
        "\n",
        "# summarise the model\n",
        "model3.summary()"
      ]
    },
    {
      "cell_type": "markdown",
      "id": "34aed236",
      "metadata": {
        "id": "34aed236"
      },
      "source": [
        "### Saving, Loading and Training Model 3"
      ]
    },
    {
      "cell_type": "code",
      "execution_count": null,
      "id": "88d018bc",
      "metadata": {
        "id": "88d018bc"
      },
      "outputs": [],
      "source": [
        "# create the path for saving the model and its history\n",
        "model3_path = \"cifar10_model3.saved_model\"\n",
        "model3_history_path = \"cifar10_model3.saved_model_history\"\n",
        "\n",
        "if os.path.exists(model3_path) and os.path.exists(model3_history_path):\n",
        "    # Load trained model\n",
        "    model3 = tf.keras.models.load_model(model3_path)\n",
        "    history3 = pickle.load(open(model3_history_path, \"rb\"))\n",
        "    model_analysis_plot(history3)\n",
        "else:\n",
        "    # Train new model\n",
        "    tf.random.set_seed(12345)\n",
        "    model3.fit(training_examples, training_labels,\n",
        "               batch_size = 64,\n",
        "               epochs = 30,\n",
        "               verbose = 2,\n",
        "               validation_data = (test_examples, test_labels))\n",
        "    history3 = model3.history.history\n",
        "    model3.save(model3_path)\n",
        "    pickle.dump(history3, open(model3_history_path, \"wb\"))\n",
        "    model_analysis_plot(history3)"
      ]
    },
    {
      "cell_type": "markdown",
      "id": "409568a8",
      "metadata": {
        "id": "409568a8"
      },
      "source": [
        "### Summarising Model 3's Performance"
      ]
    },
    {
      "cell_type": "code",
      "execution_count": null,
      "id": "74a2bb05",
      "metadata": {
        "id": "74a2bb05",
        "scrolled": false
      },
      "outputs": [],
      "source": [
        "print(f\"Model 3 Training Accuracy: {history3['accuracy'][-1]:.4}\")\n",
        "print(f\"Model 3 Validation Accuracy: {history3['val_accuracy'][-1]:.4}\")\n",
        "print(f\"Model 3 Training Loss: {history3['loss'][-1]:.4}\")\n",
        "print(f\"Model 3 Validation Loss: {history3['val_loss'][-1]:.4}\")\n",
        "print(f\"Model 3 Training Mean Square Error: {history3['mse'][-1]:.4}\")\n",
        "print(f\"Model 3 Validation Mean Square Error: {history3['val_mse'][-1]:.4}\")\n",
        "print(f\"Model 3 Training Mean Absolute Error: {history3['mae'][-1]:.4}\")\n",
        "print(f\"Model 3 Validation Mean Absolute Error: {history3['val_mae'][-1]:.4}\")"
      ]
    },
    {
      "cell_type": "markdown",
      "id": "a593f817",
      "metadata": {
        "id": "a593f817"
      },
      "source": [
        "## CNN Implementation: Configuration 4"
      ]
    },
    {
      "cell_type": "markdown",
      "id": "f96174b3",
      "metadata": {
        "id": "f96174b3"
      },
      "source": [
        "### Building the Network with Configuration 4"
      ]
    },
    {
      "cell_type": "code",
      "execution_count": null,
      "id": "421ecd98",
      "metadata": {
        "id": "421ecd98"
      },
      "outputs": [],
      "source": [
        "model4 = Sequential()\n",
        "\n",
        "# first convolution layer\n",
        "model4.add(Conv2D(64, (4,4), strides=(1,1), padding=\"same\", activation='relu', input_shape=(32,32, 3)))\n",
        "# add a dropout layer\n",
        "model4.add(Dropout(0.2))\n",
        "\n",
        "# second convolution layer\n",
        "model4.add(Conv2D(64, (2,2), strides=(2,2), padding=\"same\", activation='relu'))\n",
        "\n",
        "# add a second dropout layer\n",
        "model4.add(Dropout(0.2))\n",
        "\n",
        "# third convolution layer\n",
        "model4.add(Conv2D(32, (3,3), strides=(1,1), padding=\"same\", activation='relu'))\n",
        "\n",
        "# add a third dropout layer\n",
        "model4.add(Dropout(0.2))\n",
        "\n",
        "# fourth convolution layer\n",
        "model4.add(Conv2D(32, (3,3), strides=(1,1), padding=\"same\", activation='relu'))\n",
        "\n",
        "# add a pooling layer\n",
        "model4.add(MaxPooling2D(pool_size=(2,2), strides=(2,2)))\n",
        "\n",
        "# add a fourth dropout layer\n",
        "model4.add(Dropout(0.2))\n",
        "\n",
        "# flatten the output\n",
        "model4.add(Flatten())\n",
        "\n",
        "# add a first fully connected layer\n",
        "model4.add(Dense(64, activation=\"sigmoid\"))\n",
        "\n",
        "# add a fifth dropout layer.\n",
        "model4.add(Dropout(0.2))\n",
        "\n",
        "# add a second fully connected layer\n",
        "model4.add(Dense(64, activation=\"sigmoid\"))\n",
        "\n",
        "# add a sixth dropout layer.\n",
        "model4.add(Dropout(0.2))\n",
        "\n",
        "# add a third fully connected layer\n",
        "model4.add(Dense(10, activation=\"sigmoid\"))"
      ]
    },
    {
      "cell_type": "markdown",
      "id": "13b91fa0",
      "metadata": {
        "id": "13b91fa0"
      },
      "source": [
        "### Compiling and Summarising Model 4"
      ]
    },
    {
      "cell_type": "code",
      "execution_count": null,
      "id": "df768d49",
      "metadata": {
        "id": "df768d49"
      },
      "outputs": [],
      "source": [
        "# compile the model\n",
        "model4.compile(loss='categorical_crossentropy',\n",
        "               optimizer='adam',\n",
        "               metrics=['accuracy', 'mse', 'mae'])\n",
        "\n",
        "# summarise the model\n",
        "model4.summary()"
      ]
    },
    {
      "cell_type": "markdown",
      "id": "8b2ae13f",
      "metadata": {
        "id": "8b2ae13f"
      },
      "source": [
        "### Saving, Loading and Training Model 4"
      ]
    },
    {
      "cell_type": "code",
      "execution_count": null,
      "id": "94683ad0",
      "metadata": {
        "id": "94683ad0"
      },
      "outputs": [],
      "source": [
        "# create the path for saving the model and its history\n",
        "model4_path = \"cifar10_model4.saved_model\"\n",
        "model4_history_path = \"cifar10_model4.saved_model_history\"\n",
        "\n",
        "if os.path.exists(model4_path) and os.path.exists(model4_history_path):\n",
        "    # Load trained model\n",
        "    model4 = tf.keras.models.load_model(model4_path)\n",
        "    history4 = pickle.load(open(model4_history_path, \"rb\"))\n",
        "    model_analysis_plot(history4)\n",
        "else:\n",
        "    # Train new model\n",
        "    tf.random.set_seed(12345)\n",
        "    model4.fit(training_examples, training_labels,\n",
        "               batch_size = 64,\n",
        "               epochs = 30,\n",
        "               verbose = 2,\n",
        "               validation_data = (test_examples, test_labels))\n",
        "    history4 = model4.history.history\n",
        "    model4.save(model4_path)\n",
        "    pickle.dump(history4, open(model4_history_path, \"wb\"))\n",
        "    model_analysis_plot(history4)"
      ]
    },
    {
      "cell_type": "markdown",
      "id": "90f74d96",
      "metadata": {
        "id": "90f74d96"
      },
      "source": [
        "### Summarising Model 4's Performance"
      ]
    },
    {
      "cell_type": "code",
      "execution_count": null,
      "id": "ceac1b5a",
      "metadata": {
        "id": "ceac1b5a",
        "scrolled": true
      },
      "outputs": [],
      "source": [
        "print(f\"Model 4 Training Accuracy: {history4['accuracy'][-1]:.4}\")\n",
        "print(f\"Model 4 Validation Accuracy: {history4['val_accuracy'][-1]:.4}\")\n",
        "print(f\"Model 4 Training Loss: {history4['loss'][-1]:.4}\")\n",
        "print(f\"Model 4 Validation Loss: {history4['val_loss'][-1]:.4}\")\n",
        "print(f\"Model 4 Training Mean Square Error: {history4['mse'][-1]:.4}\")\n",
        "print(f\"Model 4 Validation Mean Square Error: {history4['val_mse'][-1]:.4}\")\n",
        "print(f\"Model 4 Training Mean Absolute Error: {history4['mae'][-1]:.4}\")\n",
        "print(f\"Model 4 Validation Mean Absolute Error: {history4['val_mae'][-1]:.4}\")"
      ]
    },
    {
      "cell_type": "markdown",
      "id": "79655f0f",
      "metadata": {
        "id": "79655f0f"
      },
      "source": [
        "## CNN Implementation: Configuration 5"
      ]
    },
    {
      "cell_type": "markdown",
      "id": "1d5e4d88",
      "metadata": {
        "id": "1d5e4d88"
      },
      "source": [
        "### Building the Network with Configuration 5"
      ]
    },
    {
      "cell_type": "code",
      "execution_count": null,
      "id": "f9c316d9",
      "metadata": {
        "id": "f9c316d9"
      },
      "outputs": [],
      "source": [
        "model5 = Sequential()\n",
        "\n",
        "# first convolution layer\n",
        "model5.add(Conv2D(64, (4,4), strides=(1,1), padding=\"same\", activation='relu', input_shape=(32,32, 3)))\n",
        "\n",
        "# add a first dropout layer\n",
        "model5.add(Dropout(0.2))\n",
        "\n",
        "# second convolution layer\n",
        "model5.add(Conv2D(64, (2,2), strides=(2,2), padding=\"same\", activation='relu'))\n",
        "\n",
        "# add a second dropout layer\n",
        "model5.add(Dropout(0.2))\n",
        "\n",
        "# third convolution layer\n",
        "model5.add(Conv2D(32, (3,3), strides=(1,1), padding=\"same\", activation='relu'))\n",
        "\n",
        "# add a third dropout layer\n",
        "model5.add(Dropout(0.2))\n",
        "\n",
        "# fourth convolution layer\n",
        "model5.add(Conv2D(32, (3,3), strides=(1,1), padding=\"same\", activation='relu'))\n",
        "\n",
        "# add a pooling layer\n",
        "model5.add(MaxPooling2D(pool_size=(2,2), strides=(2,2)))\n",
        "\n",
        "# add a fourth dropout layer.\n",
        "model5.add(Dropout(0.2))\n",
        "\n",
        "# flatten the output\n",
        "model5.add(Flatten())\n",
        "\n",
        "# add a first fully connected layer\n",
        "model5.add(Dense(64, activation=\"relu\"))\n",
        "\n",
        "# add a fourth dropout layer.\n",
        "model5.add(Dropout(0.2))\n",
        "\n",
        "# add a second fully connected layer\n",
        "model5.add(Dense(64, activation=\"relu\"))\n",
        "\n",
        "# add a fifth dropout layer.\n",
        "model5.add(Dropout(0.2))\n",
        "\n",
        "# add a second fully connected layer\n",
        "model5.add(Dense(64, activation=\"relu\"))\n",
        "\n",
        "# add a fifth dropout layer.\n",
        "model5.add(Dropout(0.2))\n",
        "\n",
        "# add the fully connected layer\n",
        "model5.add(Dense(10, activation=\"softmax\"))\n"
      ]
    },
    {
      "cell_type": "markdown",
      "id": "fb72e4d0",
      "metadata": {
        "id": "fb72e4d0"
      },
      "source": [
        "### Compiling and Summarising Model 5"
      ]
    },
    {
      "cell_type": "code",
      "execution_count": null,
      "id": "4ec0da0b",
      "metadata": {
        "id": "4ec0da0b"
      },
      "outputs": [],
      "source": [
        "# compile the model\n",
        "model5.compile(loss='categorical_crossentropy',\n",
        "               optimizer='adam',\n",
        "               metrics=['accuracy', 'mse', 'mae'])\n",
        "\n",
        "# summarise the model\n",
        "model5.summary()"
      ]
    },
    {
      "cell_type": "markdown",
      "id": "23265d12",
      "metadata": {
        "id": "23265d12"
      },
      "source": [
        "### Saving, Loading and Training Model 5"
      ]
    },
    {
      "cell_type": "code",
      "execution_count": null,
      "id": "c173b26e",
      "metadata": {
        "id": "c173b26e",
        "scrolled": true
      },
      "outputs": [],
      "source": [
        "# create the path for saving the model and its history\n",
        "model5_path = \"cifar10_model5.saved_model\"\n",
        "model5_history_path = \"cifar10_model5.saved_model_history\"\n",
        "\n",
        "if os.path.exists(model5_path) and os.path.exists(model5_history_path):\n",
        "    # Load trained model\n",
        "    model5 = tf.keras.models.load_model(model5_path)\n",
        "    history5 = pickle.load(open(model5_history_path, \"rb\"))\n",
        "    model_analysis_plot(history5)\n",
        "else:\n",
        "    # Train new model\n",
        "    tf.random.set_seed(12345)\n",
        "    model5.fit(training_examples, training_labels,\n",
        "               batch_size = 64,\n",
        "               epochs = 30,\n",
        "               verbose = 2,\n",
        "               validation_data = (test_examples, test_labels))\n",
        "    history5 = model5.history.history\n",
        "    model5.save(model5_path)\n",
        "    pickle.dump(history5, open(model5_history_path, \"wb\"))\n",
        "    model_analysis_plot(history5)"
      ]
    },
    {
      "cell_type": "markdown",
      "id": "a42b40c6",
      "metadata": {
        "id": "a42b40c6"
      },
      "source": [
        "### Summarising Model 5's Performance"
      ]
    },
    {
      "cell_type": "code",
      "execution_count": null,
      "id": "d215fc41",
      "metadata": {
        "id": "d215fc41",
        "scrolled": true
      },
      "outputs": [],
      "source": [
        "print(f\"Model 5 Training Accuracy: {history5['accuracy'][-1]:.4}\")\n",
        "print(f\"Model 5 Validation Accuracy: {history5['val_accuracy'][-1]:.4}\")\n",
        "print(f\"Model 5 Training Loss: {history5['loss'][-1]:.4}\")\n",
        "print(f\"Model 5 Validation Loss: {history5['val_loss'][-1]:.4}\")\n",
        "print(f\"Model 5 Training Mean Square Error: {history5['mse'][-1]:.4}\")\n",
        "print(f\"Model 5 Validation Mean Square Error: {history5['val_mse'][-1]:.4}\")\n",
        "print(f\"Model 5 Training Mean Absolute Error: {history5['mae'][-1]:.4}\")\n",
        "print(f\"Model 5 Validation Mean Absolute Error: {history5['val_mae'][-1]:.4}\")"
      ]
    },
    {
      "cell_type": "markdown",
      "id": "8ea1e3cf",
      "metadata": {
        "id": "8ea1e3cf"
      },
      "source": [
        "## CNN Implementation: Configuration 6"
      ]
    },
    {
      "cell_type": "markdown",
      "id": "a128ea16",
      "metadata": {
        "id": "a128ea16"
      },
      "source": [
        "### Building the Network with Configuration 6"
      ]
    },
    {
      "cell_type": "code",
      "execution_count": null,
      "id": "6f063eb2",
      "metadata": {
        "id": "6f063eb2"
      },
      "outputs": [],
      "source": [
        "from tensorflow.keras.models import Sequential\n",
        "from tensorflow.keras.layers import Dense, Flatten, Conv2D, Dropout, MaxPooling2D\n",
        "\n",
        "model6 = Sequential()\n",
        "\n",
        "# first convolution layer\n",
        "model6.add(Conv2D(64, (4,4), strides=(1,1), padding=\"same\", activation='relu', input_shape=(32,32, 3)))\n",
        "\n",
        "# add a first dropout layer\n",
        "model6.add(Dropout(0.2))\n",
        "\n",
        "# second convolution layer\n",
        "model6.add(Conv2D(64, (2,2), strides=(2,2), padding=\"same\", activation='relu'))\n",
        "\n",
        "# add a second dropout layer\n",
        "model6.add(Dropout(0.2))\n",
        "\n",
        "# third convolution layer\n",
        "model6.add(Conv2D(32, (3,3), strides=(1,1), padding=\"same\", activation='relu'))\n",
        "\n",
        "# add a third dropout layer\n",
        "model6.add(Dropout(0.2))\n",
        "\n",
        "# fourth convolution layer\n",
        "model6.add(Conv2D(32, (3,3), strides=(1,1), padding=\"same\", activation='relu'))\n",
        "\n",
        "# add a pooling layer\n",
        "model6.add(MaxPooling2D(pool_size=(2,2), strides=(2,2)))\n",
        "\n",
        "# add a fourth dropout layer.\n",
        "model6.add(Dropout(0.2))\n",
        "\n",
        "# flatten the output\n",
        "model6.add(Flatten())\n",
        "\n",
        "# add a first fully connected layer\n",
        "model6.add(Dense(64, activation=\"tanh\"))\n",
        "\n",
        "# add a fourth dropout layer.\n",
        "model6.add(Dropout(0.2))\n",
        "\n",
        "# add a second fully connected layer\n",
        "model6.add(Dense(64, activation=\"tanh\"))\n",
        "\n",
        "# add a fifth dropout layer.\n",
        "model6.add(Dropout(0.2))\n",
        "\n",
        "\n",
        "# add the fully connected layer\n",
        "model6.add(Dense(10, activation=\"tanh\"))"
      ]
    },
    {
      "cell_type": "markdown",
      "id": "24754834",
      "metadata": {
        "id": "24754834"
      },
      "source": [
        "### Compiling and Summarising Model 6"
      ]
    },
    {
      "cell_type": "code",
      "execution_count": null,
      "id": "7533746b",
      "metadata": {
        "id": "7533746b"
      },
      "outputs": [],
      "source": [
        "# compile the model\n",
        "model6.compile(loss='categorical_crossentropy',\n",
        "               optimizer='adam',\n",
        "               metrics=['accuracy', 'mse', 'mae'])\n",
        "\n",
        "# summarise the model\n",
        "model6.summary()"
      ]
    },
    {
      "cell_type": "markdown",
      "id": "62e5988f",
      "metadata": {
        "id": "62e5988f"
      },
      "source": [
        "### Saving, Loading and Training Model 6"
      ]
    },
    {
      "cell_type": "code",
      "execution_count": null,
      "id": "552c645d",
      "metadata": {
        "id": "552c645d",
        "scrolled": true
      },
      "outputs": [],
      "source": [
        "import tensorflow as tf\n",
        "import os\n",
        "import pickle\n",
        "# create the path for saving the model and its history\n",
        "model6_path = \"cifar10_model6.saved_model\"\n",
        "model6_history_path = \"cifar10_model6.saved_model_history\"\n",
        "\n",
        "if os.path.exists(model6_path) and os.path.exists(model6_history_path):\n",
        "    # Load trained model\n",
        "    model6 = tf.keras.models.load_model(model6_path)\n",
        "    history6 = pickle.load(open(model6_history_path, \"rb\"))\n",
        "    model_analysis_plot(history6)\n",
        "else:\n",
        "    # Train new model\n",
        "    tf.random.set_seed(12345)\n",
        "    model6.fit(training_examples, training_labels,\n",
        "               batch_size = 64,\n",
        "               epochs = 30,\n",
        "               verbose = 2,\n",
        "               validation_data = (test_examples, test_labels))\n",
        "    history6 = model6.history.history\n",
        "    model6.save(model6_path)\n",
        "    pickle.dump(history6, open(model6_history_path, \"wb\"))\n",
        "    model_analysis_plot(history6)"
      ]
    },
    {
      "cell_type": "markdown",
      "id": "38993948",
      "metadata": {
        "id": "38993948"
      },
      "source": [
        "### Summarising Model 6's Performance"
      ]
    },
    {
      "cell_type": "code",
      "execution_count": null,
      "id": "f9ff4e4f",
      "metadata": {
        "id": "f9ff4e4f",
        "scrolled": false
      },
      "outputs": [],
      "source": [
        "print(f\"Model 6 Training Accuracy: {history6['accuracy'][-1]:.4}\")\n",
        "print(f\"Model 6 Validation Accuracy: {history6['val_accuracy'][-1]:.4}\")\n",
        "print(f\"Model 6 Training Loss: {history6['loss'][-1]:.4}\")\n",
        "print(f\"Model 6 Validation Loss: {history6['val_loss'][-1]:.4}\")\n",
        "print(f\"Model 6 Training Mean Square Error: {history6['mse'][-1]:.4}\")\n",
        "print(f\"Model 6 Validation Mean Square Error: {history6['val_mse'][-1]:.4}\")\n",
        "print(f\"Model 6 Training Mean Absolute Error: {history6['mae'][-1]:.4}\")\n",
        "print(f\"Model 6 Validation Mean Absolute Error: {history6['val_mae'][-1]:.4}\")"
      ]
    },
    {
      "cell_type": "markdown",
      "id": "98633ea7",
      "metadata": {
        "id": "98633ea7"
      },
      "source": [
        "## Accuracy Comparison across Configurations"
      ]
    },
    {
      "cell_type": "code",
      "execution_count": null,
      "id": "41a3d38f",
      "metadata": {
        "id": "41a3d38f"
      },
      "outputs": [],
      "source": [
        "import matplotlib.pyplot as plt\n",
        "import numpy as np\n",
        "train_acc = [x['accuracy'][-1] for x in (history1, history2, history3, history4, history5, history6)]\n",
        "val_acc = [x['val_accuracy'][-1] for x in (history1, history2, history3, history4, history5, history6)]\n",
        "train_loss = [x['loss'][-1] for x in (history1, history2, history3, history4, history5, history6)]\n",
        "val_loss = [x['val_loss'][-1] for x in (history1, history2, history3, history4, history5, history6)]\n",
        "config_id = np.array([1, 2, 3, 4, 5, 6])\n",
        "\n",
        "fig, axes = plt.subplots(2, 2, figsize=(15, 5))\n",
        "axes = axes.flatten()\n",
        "axes[0].plot(config_id, train_acc, color='blue')\n",
        "axes[0].set_title('Training Accuracy Trend')\n",
        "axes[1].plot(config_id, val_acc, color='orange')\n",
        "axes[1].set_title('Validation Accuracy Trend')\n",
        "axes[2].plot(config_id, train_loss, color='blue')\n",
        "axes[2].set_title('Training Loss Trend')\n",
        "axes[3].plot(config_id, val_loss, color='orange')\n",
        "axes[3].set_title('Validation Loss Trend')\n",
        "plt.tight_layout()\n",
        "plt.show()"
      ]
    },
    {
      "cell_type": "markdown",
      "id": "b12184cc",
      "metadata": {
        "id": "b12184cc"
      },
      "source": [
        "## Error Comparison across Configurations"
      ]
    },
    {
      "cell_type": "code",
      "execution_count": null,
      "id": "fcabdc32",
      "metadata": {
        "id": "fcabdc32"
      },
      "outputs": [],
      "source": [
        "train_mse = [x['mse'][-1] for x in (history1, history2, history3, history4, history5, history6)]\n",
        "val_mse = [x['val_mse'][-1] for x in (history1, history2, history3, history4, history5, history6)]\n",
        "train_mae = [x['mae'][-1] for x in (history1, history2, history3, history4, history5, history6)]\n",
        "val_mae = [x['val_mae'][-1] for x in (history1, history2, history3, history4, history5, history6)]\n",
        "config_id = np.array([1, 2, 3, 4, 5, 6])\n",
        "\n",
        "fig, axes = plt.subplots(2, 2, figsize=(15, 5))\n",
        "axes = axes.flatten()\n",
        "axes[0].plot(config_id, train_mse, color='blue')\n",
        "axes[0].set_title('Training MSE Trend')\n",
        "axes[1].plot(config_id, val_mse, color='orange')\n",
        "axes[1].set_title('Validation MSE Trend')\n",
        "axes[2].plot(config_id, train_mae, color='blue')\n",
        "axes[2].set_title('Training MAE Trend')\n",
        "axes[3].plot(config_id, val_mae, color='orange')\n",
        "axes[3].set_title('Validation MAE Trend')\n",
        "plt.tight_layout()\n",
        "plt.show()"
      ]
    },
    {
      "cell_type": "markdown",
      "id": "b77a2dff",
      "metadata": {
        "id": "b77a2dff"
      },
      "source": [
        "## Best Model Detection"
      ]
    },
    {
      "cell_type": "code",
      "execution_count": null,
      "id": "d34a86d2",
      "metadata": {
        "id": "d34a86d2"
      },
      "outputs": [],
      "source": [
        "best_model_index = np.argmax([x[\"val_accuracy\"][-1] + x[\"accuracy\"][-1] for x in (history4, history5)])\n",
        "best_model = (model4, model5)[best_model_index]\n",
        "history = (history4, history5)[best_model_index]\n",
        "test_vectors = (training_examples, test_examples)[best_model_index]\n",
        "\n",
        "print(f\"Best Model: {best_model_index + 1}\")\n",
        "print(f\"Training Accuracy: {history['accuracy'][-1]:.4}\")\n",
        "print(f\"Validation Accuracy: {history['val_accuracy'][-1]:.4}\")\n",
        "print(f\"Training MSE: {history['mse'][-1]:.4}\")\n",
        "print(f\"Validation MSE: {history['val_mse'][-1]:.4}\")\n",
        "print(f\"Training MAE: {history['mae'][-1]:.4}\")\n",
        "print(f\"Validation MAE: {history['val_mae'][-1]:.4}\")"
      ]
    },
    {
      "cell_type": "markdown",
      "id": "0cd1411b",
      "metadata": {
        "id": "0cd1411b"
      },
      "source": [
        "## Best Model Predictions"
      ]
    },
    {
      "cell_type": "code",
      "execution_count": null,
      "id": "c71bf9ba",
      "metadata": {
        "id": "c71bf9ba"
      },
      "outputs": [],
      "source": [
        "import random\n",
        "predictions = best_model.predict(test_examples)\n",
        "predictions =np.argmax(predictions, axis=1)\n",
        "predicted_labels = predictions.argmax(axis=-1)\n",
        "print(predictions)"
      ]
    },
    {
      "cell_type": "code",
      "execution_count": null,
      "id": "9981499d",
      "metadata": {
        "id": "9981499d"
      },
      "outputs": [],
      "source": [
        "fig, axes = plt.subplots(ncols=10, sharex=False,\n",
        "                         sharey=False, figsize=(20, 4))\n",
        "for i in range(10):\n",
        "    axes[i].set_title(f\"Prediction: {predictions[i]}\\n Class: {label_set[predictions[i]]}\")\n",
        "    axes[i].imshow(test_examples[i])\n",
        "    axes[i].get_xaxis().set_visible(False)\n",
        "    axes[i].get_yaxis().set_visible(False)\n",
        "plt.show()"
      ]
    },
    {
      "cell_type": "code",
      "execution_count": null,
      "id": "e689d5e8",
      "metadata": {
        "id": "e689d5e8"
      },
      "outputs": [],
      "source": []
    }
  ],
  "metadata": {
    "colab": {
      "provenance": []
    },
    "kernelspec": {
      "display_name": "Python 3 (ipykernel)",
      "language": "python",
      "name": "python3"
    },
    "language_info": {
      "codemirror_mode": {
        "name": "ipython",
        "version": 3
      },
      "file_extension": ".py",
      "mimetype": "text/x-python",
      "name": "python",
      "nbconvert_exporter": "python",
      "pygments_lexer": "ipython3",
      "version": "3.9.12"
    }
  },
  "nbformat": 4,
  "nbformat_minor": 5
}